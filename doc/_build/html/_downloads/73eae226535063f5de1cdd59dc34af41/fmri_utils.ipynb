{
  "cells": [
    {
      "cell_type": "code",
      "execution_count": null,
      "metadata": {
        "collapsed": false
      },
      "outputs": [],
      "source": [
        "%matplotlib inline"
      ]
    },
    {
      "cell_type": "markdown",
      "metadata": {},
      "source": [
        "\n# fMRI utils\n\n"
      ]
    },
    {
      "cell_type": "code",
      "execution_count": null,
      "metadata": {
        "collapsed": false
      },
      "outputs": [],
      "source": [
        "# Authors: Hugo Richard, Pierre Ablin\n# License: BSD 3 clause\n\nimport numpy as np\n\n\ndef load_and_concat(paths):\n    \"\"\"\n    Load data and concatenate temporally\n    Parameters\n    ----------\n    paths: np array of shape (n_subjects, n_runs)\n        paths to data arrays\n    Returns\n    -------\n    concat: np array of shape (n_subjects, n_voxels, n_timeframes)\n    \"\"\"\n    n_subjects, n_runs = paths.shape\n    concat = []\n    for i in range(n_subjects):\n        X_i = np.concatenate(\n            [np.load(paths[i, j]) for j in range(n_runs)], axis=1\n        )\n        concat.append(X_i)\n    return np.array(concat)"
      ]
    }
  ],
  "metadata": {
    "kernelspec": {
      "display_name": "Python 3",
      "language": "python",
      "name": "python3"
    },
    "language_info": {
      "codemirror_mode": {
        "name": "ipython",
        "version": 3
      },
      "file_extension": ".py",
      "mimetype": "text/x-python",
      "name": "python",
      "nbconvert_exporter": "python",
      "pygments_lexer": "ipython3",
      "version": "3.8.3"
    }
  },
  "nbformat": 4,
  "nbformat_minor": 0
}