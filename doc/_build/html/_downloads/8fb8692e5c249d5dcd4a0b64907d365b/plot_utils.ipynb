{
  "cells": [
    {
      "cell_type": "code",
      "execution_count": null,
      "metadata": {
        "collapsed": false
      },
      "outputs": [],
      "source": [
        "%matplotlib inline"
      ]
    },
    {
      "cell_type": "markdown",
      "metadata": {},
      "source": [
        "\n# Plot utils\n\n"
      ]
    },
    {
      "cell_type": "code",
      "execution_count": null,
      "metadata": {
        "collapsed": false
      },
      "outputs": [],
      "source": [
        "# Authors: Hugo Richard, Pierre Ablin\n# License: BSD 3 clause\n\n\nimport scipy.stats as st\nimport numpy as np\n\n\ndef confidence_interval(a, conf=0.95):\n    \"\"\"\n    Return a confidence interval assuming normal distribution\n    Parameters\n    ----------\n    a: np array\n        input data\n    conf: float\n        level of confidence\n    Returns\n    -------\n        (low, high): low and high limit of the interval\n    \"\"\"\n    return st.t.interval(0.95, len(a) - 1, loc=np.mean(a), scale=st.sem(a))"
      ]
    }
  ],
  "metadata": {
    "kernelspec": {
      "display_name": "Python 3",
      "language": "python",
      "name": "python3"
    },
    "language_info": {
      "codemirror_mode": {
        "name": "ipython",
        "version": 3
      },
      "file_extension": ".py",
      "mimetype": "text/x-python",
      "name": "python",
      "nbconvert_exporter": "python",
      "pygments_lexer": "ipython3",
      "version": "3.8.3"
    }
  },
  "nbformat": 4,
  "nbformat_minor": 0
}