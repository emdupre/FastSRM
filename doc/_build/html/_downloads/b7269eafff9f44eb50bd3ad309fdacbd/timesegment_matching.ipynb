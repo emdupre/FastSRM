{
  "cells": [
    {
      "cell_type": "code",
      "execution_count": null,
      "metadata": {
        "collapsed": false
      },
      "outputs": [],
      "source": [
        "%matplotlib inline"
      ]
    },
    {
      "cell_type": "markdown",
      "metadata": {},
      "source": [
        "\n# Time-segment matching\n\n"
      ]
    },
    {
      "cell_type": "code",
      "execution_count": null,
      "metadata": {
        "collapsed": false
      },
      "outputs": [],
      "source": [
        "# Authors: Hugo Richard, Pierre Ablin\n# License: BSD 3 clause\n\nimport numpy as np\nfrom sklearn.model_selection import KFold\n\nfrom multiviewica import permica, groupica, multiviewica\nfrom fmri_utils import load_and_concat\nfrom timesegment_matching_utils import time_segment_matching\nimport os\nimport matplotlib.pyplot as plt\nfrom plot_utils import confidence_interval\n\n\nn_subjects = 17\nn_runs = 5\nn_components = 5\n\nn_subjects = 17\nn_runs = 5\npaths = np.array(\n    [\n        [\n            os.path.join(\n                \"..\", \"data\", \"masked_movie_files\", \"sub%i_run%i.npy\" % (i, j)\n            )\n            for j in range(n_runs)\n        ]\n        for i in range(n_subjects)\n    ]\n)\n\n\nalgos = [\n    (\"srm\", \"MultiViewICA\", multiviewica),\n    (\"pca\", \"PCA+GroupICA\", groupica),\n    (\"srm\", \"PermICA\", permica),\n]\n\ncv = KFold(n_splits=5, shuffle=False)\nres = []\nfor i, (train_runs, test_runs) in enumerate(cv.split(np.arange(n_runs))):\n    train_paths = paths[:, train_runs]\n    test_paths = paths[:, test_runs]\n    data_test = load_and_concat(test_paths)\n    data_train = load_and_concat(train_paths)\n    res_ = []\n    for dimension_reduction, name, algo in algos:\n        K, W, S = algo(\n            data_train,\n            n_components=n_components,\n            dimension_reduction=dimension_reduction,\n            tol=1e-5,\n            max_iter=10000,\n        )\n        forward = [W[i].dot(K[i]) for i in range(n_subjects)]\n        backward = [np.linalg.pinv(forward[i]) for i in range(n_subjects)]\n        # Let us use dual regression for PCA+GroupICA to increase perf\n        if name == \"PCA+GroupICA\":\n            backward = [x.dot(np.linalg.pinv(S)) for x in data_train]\n            forward = np.linalg.pinv(backward)\n        # if name == \"PermICA\" or name == \"MultiViewICA\":\n        #     # With PermICA and MultiViewICA we use SRM as preprocessing\n        #     A, X_train = srm(train_paths, n_components=n_components)\n        #     W, S = algo(X_train, tol=1e-5, max_iter=10000)\n        #     forward = [W[i].dot(A[i].T) for i in range(n_subjects)]\n        #     backward = [\n        #         A[i].dot(np.linalg.inv(W[i])) for i in range(n_subjects)\n        #     ]\n        # elif name == \"PCA+GroupICA\":\n        #     # With PCA+GroupICA we use subject specific PCA\n        #     A, X_train = reduce_data(train_paths, n_components=n_components)\n        #     W, S = algo(X_train, tol=1e-5, max_iter=10000)\n        #     # We use double regression to compute forward operator\n        #     backward = online_dot(train_paths, np.linalg.pinv(S))\n        #     forward = [np.linalg.pinv(b) for b in backward]\n        shared = np.array(\n            [forward[i].dot(data_test[i]) for i in range(n_subjects)]\n        )\n        cv_scores = time_segment_matching(shared, win_size=9)\n        res_.append(cv_scores)\n    res.append(res_)\n\n# Plotting\ncm = plt.cm.tab20\n\nalgos = [\n    (\"MultiViewICA\", cm(0)),\n    (\"PCA+GroupICA\", cm(7)),\n    (\"PermICA\", cm(2)),\n]\n\nres = np.array(res)\n\nfig, ax = plt.subplots()\nfor i, (algo, color) in enumerate(algos):\n    res_algo = res[:, i, :].flatten()\n    av = np.mean(res_algo)\n    low, high = confidence_interval(res_algo)\n    low = av - low\n    high = high - av\n    ax.bar(\n        i,\n        height=[av],\n        width=0.8,\n        label=algo,\n        color=color,\n        yerr=np.array([[low], [high]]),\n    )\nplt.ylabel(r\"Accuracy\")\nplt.xticks([0, 1, 2], [\"MultiViewICA\", \"PCA+GroupICA\", \"PermICA\"])\nfig.legend(\n    ncol=3, loc=\"upper center\",\n)\nplt.savefig(\n    \"../figures/timesegment_matching.png\", bbox_inches=\"tight\",\n)"
      ]
    }
  ],
  "metadata": {
    "kernelspec": {
      "display_name": "Python 3",
      "language": "python",
      "name": "python3"
    },
    "language_info": {
      "codemirror_mode": {
        "name": "ipython",
        "version": 3
      },
      "file_extension": ".py",
      "mimetype": "text/x-python",
      "name": "python",
      "nbconvert_exporter": "python",
      "pygments_lexer": "ipython3",
      "version": "3.8.3"
    }
  },
  "nbformat": 4,
  "nbformat_minor": 0
}