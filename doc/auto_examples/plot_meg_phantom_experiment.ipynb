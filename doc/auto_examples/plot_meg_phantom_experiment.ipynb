{
  "cells": [
    {
      "cell_type": "code",
      "execution_count": null,
      "metadata": {
        "collapsed": false
      },
      "outputs": [],
      "source": [
        "%matplotlib inline"
      ]
    },
    {
      "cell_type": "markdown",
      "metadata": {},
      "source": [
        "\n# Experitments on MEG Phantom data\n\n"
      ]
    },
    {
      "cell_type": "code",
      "execution_count": null,
      "metadata": {
        "collapsed": false
      },
      "outputs": [],
      "source": [
        "# Authors: Hugo Richard, Pierre Ablin\n# License: BSD 3 clause\n\nimport os.path as op\nimport numpy as np\nimport matplotlib.pyplot as plt\n\nimport mne\nfrom mne import find_events\nfrom mne.datasets.brainstorm import bst_phantom_elekta\nfrom mne.io import read_raw_fif\n\nfrom multiviewica import multiviewica, permica, groupica\n\n\ndata_path = bst_phantom_elekta.data_path()\n\nraw_fname = op.join(data_path, \"kojak_all_200nAm_pp_no_chpi_no_ms_raw.fif\")\nraw = read_raw_fif(raw_fname)\n\n# Delete bad sensor\n\nevents = find_events(raw, \"STI201\")\nraw.info[\"bads\"] = [\"MEG2421\"]\n\n# Filter\n\nraw.fix_mag_coil_types()\nraw = mne.preprocessing.maxwell_filter(raw, origin=(0.0, 0.0, 0.0))\nraw.filter(1.0, 40.0)\n\n\n# Select magnometers\npicks = mne.pick_types(raw.info, meg=\"mag\")\n\n# Epoch signals\ntmin, tmax = -0.2, 0.5\nepochs = mne.Epochs(\n    raw,\n    events,\n    None,\n    tmin,\n    tmax,\n    picks=picks,\n    baseline=(None, 0),\n    preload=True,\n)\n# Get data from two consecutive epochs\nn_epochs = 1\nn_dipoles = 3\nX = np.array(\n    [\n        np.hstack(epochs[str(i)].get_data()[1: 1 + n_epochs])\n        for i in range(1, 1 + n_dipoles)\n    ]\n)\n\n# Normalize\nX /= np.std(X)\n\n# Apply individual PCA\ndim = 20\n\n# Get sources with multiviewICA\nK_m, W_m, S_multiview = multiviewica(\n    X,\n    verbose=True,\n    n_components=dim,\n    dimension_reduction=\"pca\",\n    random_state=0,\n)\nK_g, W_g, S_group = groupica(\n    X, n_components=dim, dimension_reduction=\"pca\", random_state=0\n)\nK_p, W_p, S_perm = permica(\n    X, n_components=dim, dimension_reduction=\"pca\", random_state=0\n)\n\nS_m = [np.dot(W, K.dot(x)) for K, W, x in zip(K_m, W_m, X)]\nS_g = [np.dot(W, K.dot(x)) for K, W, x in zip(K_g, W_g, X)]\nS_p = [np.dot(W, K.dot(x)) for K, W, x in zip(K_p, W_p, X)]\n# Compute true source\ntrue_source = np.zeros(701)\ntrue_source[200:320] = np.sin(np.linspace(0, 5 * np.pi, 120))\ntrue_source /= np.std(true_source)\ntrue_source = np.tile(true_source, n_epochs)\n\n\ndef find_best_source(S):\n    S /= np.std(S, axis=1)[:, None]\n    corr = np.dot(S, true_source)\n    source_idx = np.argmax(np.abs(corr))\n    return S[source_idx] * np.sign(corr[source_idx])\n\n\ntime = np.linspace(-0.2, 0.7 * n_epochs, len(true_source))\n\nfor i in range(n_dipoles):\n    plt.figure()\n    for S, name in zip(\n        [S_g, S_p, S_m], [\"Group ICA\", \"Perm ICA\", \"Multiview ICA\"]\n    ):\n        plt.plot(time, find_best_source(S[i]), label=name)\n    plt.plot(time, true_source, label=\"True source\", color=\"k\")\n    plt.title(\"Dipole %d\" % (i + 1))\n    plt.legend()\nplt.show()"
      ]
    }
  ],
  "metadata": {
    "kernelspec": {
      "display_name": "Python 3",
      "language": "python",
      "name": "python3"
    },
    "language_info": {
      "codemirror_mode": {
        "name": "ipython",
        "version": 3
      },
      "file_extension": ".py",
      "mimetype": "text/x-python",
      "name": "python",
      "nbconvert_exporter": "python",
      "pygments_lexer": "ipython3",
      "version": "3.8.3"
    }
  },
  "nbformat": 4,
  "nbformat_minor": 0
}