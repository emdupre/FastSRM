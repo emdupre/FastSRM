{
  "cells": [
    {
      "cell_type": "code",
      "execution_count": null,
      "metadata": {
        "collapsed": false
      },
      "outputs": [],
      "source": [
        "%matplotlib inline"
      ]
    },
    {
      "cell_type": "markdown",
      "metadata": {},
      "source": [
        "\n# Reconstruction utils\n\n"
      ]
    },
    {
      "cell_type": "code",
      "execution_count": null,
      "metadata": {
        "collapsed": false
      },
      "outputs": [],
      "source": [
        "# Authors: Hugo Richard, Pierre Ablin\n# License: BSD 3 clause\n\nimport nibabel as nib\nimport os\nfrom nilearn.image import resample_to_img\nfrom nilearn.input_data import NiftiMasker\nimport numpy as np\n\n\ndef get_sherlock_roi():\n    \"\"\"\n    Return sherlock roi as a numpy array\n    \"\"\"\n    example_img = nib.load(\n        os.path.join(\"..\", \"data\", \"movie_files\", \"sherlock_movie_s1.nii\")\n    )\n    mask_img = nib.load(os.path.join(\"..\", \"data\", \"mask_img.nii.gz\"))\n    mask_img = resample_to_img(mask_img, example_img, interpolation=\"nearest\")\n    masker = NiftiMasker(mask_img=mask_img,).fit()\n    sherlock_img = nib.load(os.path.join(\"..\", \"data\", \"sherlock_roi.nii.gz\"))\n    sherlock_img = resample_to_img(\n        sherlock_img, example_img, interpolation=\"nearest\"\n    )\n    sherlock_roi = masker.transform(sherlock_img).astype(int)[0]\n    return sherlock_roi"
      ]
    }
  ],
  "metadata": {
    "kernelspec": {
      "display_name": "Python 3",
      "language": "python",
      "name": "python3"
    },
    "language_info": {
      "codemirror_mode": {
        "name": "ipython",
        "version": 3
      },
      "file_extension": ".py",
      "mimetype": "text/x-python",
      "name": "python",
      "nbconvert_exporter": "python",
      "pygments_lexer": "ipython3",
      "version": "3.8.3"
    }
  },
  "nbformat": 4,
  "nbformat_minor": 0
}