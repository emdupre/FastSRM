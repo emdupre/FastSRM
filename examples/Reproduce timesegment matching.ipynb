{
 "cells": [
  {
   "cell_type": "code",
   "execution_count": 47,
   "metadata": {},
   "outputs": [],
   "source": [
    "import os\n",
    "def fetch_file(url, save_path):\n",
    "    if not os.path.exists(save_path):\n",
    "        print(\"Downloading from %s\" % url)\n",
    "        os.makedirs(\"%s\" % os.path.dirname(save_path), exist_ok=True)\n",
    "        os.system(\"wget -q --show-progress --no-check-certificate -r '%s' -O '%s'\" % (url, save_path))\n",
    "    return save_path\n"
   ]
  },
  {
   "cell_type": "code",
   "execution_count": 48,
   "metadata": {},
   "outputs": [
    {
     "name": "stdout",
     "output_type": "stream",
     "text": [
      "Downloading from http://cogspaces.github.io/assets/data/hcp_mask.nii.gz\n"
     ]
    },
    {
     "data": {
      "text/plain": [
       "'./data/my_mask.nii.gz'"
      ]
     },
     "execution_count": 48,
     "metadata": {},
     "output_type": "execute_result"
    }
   ],
   "source": [
    "fetch_file(\"http://cogspaces.github.io/assets/data/hcp_mask.nii.gz\", \"./data/my_mask.nii.gz\")"
   ]
  },
  {
   "cell_type": "code",
   "execution_count": null,
   "metadata": {},
   "outputs": [],
   "source": [
    "fetch_file(\"https://dataspace.princeton.edu/bitstream/88435/dsp01nz8062179/7/SherlockMovies_published.tgz\", \"./data/sherlock_data.tgz\")"
   ]
  },
  {
   "cell_type": "code",
   "execution_count": null,
   "metadata": {},
   "outputs": [],
   "source": []
  }
 ],
 "metadata": {
  "kernelspec": {
   "display_name": "Python 3",
   "language": "python",
   "name": "python3"
  },
  "language_info": {
   "codemirror_mode": {
    "name": "ipython",
    "version": 3
   },
   "file_extension": ".py",
   "mimetype": "text/x-python",
   "name": "python",
   "nbconvert_exporter": "python",
   "pygments_lexer": "ipython3",
   "version": "3.7.4"
  }
 },
 "nbformat": 4,
 "nbformat_minor": 2
}
