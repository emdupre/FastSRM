{
 "cells": [
  {
   "cell_type": "markdown",
   "metadata": {},
   "source": [
    "# Encoding experiment using the fast shared response model (FastSRM)"
   ]
  },
  {
   "cell_type": "markdown",
   "metadata": {},
   "source": [
    "In this notebook we introduce some basic functionalities of FastSRM. We present an encoding experiment that shows how fmri data of train subjects can be used to predict fmri data of test subjects (after training).\n",
    "\n",
    "More precisely, let us assume we have 2 groups of subjects (train, test) exposed to 2 similar but different naturalistic stimuli (session 1 and session 2) while we record their brain activity using an fMRI scanner. \n",
    "\n",
    "Our experiment follows the following steps:\n",
    "\n",
    "- Align train subjects: We train an alignment model on session 1 using train subjects\n",
    "- Align test subjects: Using data of test subjects during session 1 and the previously fitted model we add test subjects to the model\n",
    "- Predict test subjects data from train subjects: We use the model to align train subjects during session 2. From the aligned data (shared response) we predict the data of test subjects during session 2.\n",
    "- Measure performance: We report the R2 score between predicted and actual data."
   ]
  },
  {
   "cell_type": "markdown",
   "metadata": {},
   "source": [
    "# Real fMRI data"
   ]
  },
  {
   "cell_type": "markdown",
   "metadata": {},
   "source": [
    "We'll download a publicly available fMRI dataset and run SRM on these data. This dataset comprises fMRI data for 20 subjects listening to the spoken story Pie Man by Jim O'Grady (archived on the Princeton DataSpace). Note that we use 20 subjects to minimize computational demands for this tutorial and recommend larger sample sizes for publication. The gzipped data archive file is ~1.5 GB in size, and may take a couple minutes to download and unzip. The functional data were acquired with 3 x 3 x 4 mm voxels and 1.5 s TRs. Data were preprocessed using fMRIPrep (Esteban et al., 2018), including spatial normalization to MNI space (the T1-weighted ICBM 2009c Nonlinear Asymmetric template). The data were then smoothed to 6 mm FWHM using AFNI's 3dBlurToFWHM (Cox, 1996). The following confound variables were regressed out using 3dTproject: six head motion parameters (and their first derivatives), framewise displacement, six prinicipal components from an anatomical mask of cerebrospinal fluid (CSF) and white matter, sine/cosine bases for high-pass filtering (cutoff: 0.00714 Hz; 140 s), as well as a linear and quadratic trends. The anatomical template and a brain mask (i.e., excluding skull) are supplied as well. These have been resampled to match resolution of the functional images."
   ]
  },
  {
   "cell_type": "code",
   "execution_count": 1,
   "metadata": {},
   "outputs": [
    {
     "name": "stderr",
     "output_type": "stream",
     "text": [
      "/home/hugo/Research/FastSRM/venv/lib/python3.6/site-packages/sklearn/externals/joblib/__init__.py:15: DeprecationWarning: sklearn.externals.joblib is deprecated in 0.21 and will be removed in 0.23. Please import this functionality directly from joblib, which can be installed with: pip install joblib. If this warning is raised when loading pickled models, you may need to re-serialize those models with scikit-learn 0.21+.\n",
      "  warnings.warn(msg, category=DeprecationWarning)\n"
     ]
    }
   ],
   "source": [
    "import wget\n",
    "from time import time\n",
    "from glob import glob\n",
    "from os.path import join\n",
    "import nibabel\n",
    "from nilearn.image import new_img_like\n",
    "from nilearn.input_data import NiftiMasker, MultiNiftiMasker\n",
    "import numpy as np\n",
    "from joblib import Parallel, delayed\n",
    "from nilearn.plotting import plot_stat_map\n",
    "import matplotlib.pyplot as plt\n",
    "from IPython.display import clear_output\n",
    "import tarfile"
   ]
  },
  {
   "cell_type": "code",
   "execution_count": 2,
   "metadata": {},
   "outputs": [
    {
     "name": "stderr",
     "output_type": "stream",
     "text": [
      "IOPub message rate exceeded.\n",
      "The notebook server will temporarily stop sending output\n",
      "to the client in order to avoid crashing it.\n",
      "To change this limit, set the config variable\n",
      "`--NotebookApp.iopub_msg_rate_limit`.\n",
      "\n",
      "Current values:\n",
      "NotebookApp.iopub_msg_rate_limit=1000.0 (msgs/sec)\n",
      "NotebookApp.rate_limit_window=3.0 (secs)\n",
      "\n"
     ]
    }
   ],
   "source": [
    "# Download data tarball from Princeton DataSpace (about 1 Gb to download)\n",
    "t0 = time()\n",
    "def update_progress(current, total, width=0):\n",
    "    bar_length = 80\n",
    "    progress = current / total\n",
    "    if isinstance(progress, int):\n",
    "        progress = float(progress)\n",
    "    if not isinstance(progress, float):\n",
    "        progress = 0\n",
    "    if progress < 0:\n",
    "        progress = 0\n",
    "    if progress >= 1:\n",
    "        progress = 1\n",
    "\n",
    "    block = int(round(bar_length * progress))\n",
    "    clear_output(wait = True)\n",
    "    text = \"Progress: [{0}] {1:.1f}%\".format( \"#\" * block + \"-\" * (bar_length - block), progress * 100)\n",
    "    print(text)\n",
    "    \n",
    "wget.download('https://dataspace.princeton.edu/jspui/bitstream/88435/dsp01dz010s83s/6/pieman-isc-tutorial.tgz', \n",
    "              'pieman_isc', bar=update_progress)\n",
    "\n"
   ]
  },
  {
   "cell_type": "code",
   "execution_count": 3,
   "metadata": {},
   "outputs": [
    {
     "name": "stdout",
     "output_type": "stream",
     "text": [
      "Done in 707.88 seconds\n"
     ]
    }
   ],
   "source": [
    "tar = tarfile.open(\"pieman_isc\", \"r:gz\")\n",
    "tar.extractall()\n",
    "tar.close()\n",
    "print(\"Done in %.2f seconds\" % (time() - t0))"
   ]
  },
  {
   "cell_type": "markdown",
   "metadata": {},
   "source": [
    "# Step 1: Mask and save the data\n",
    "- We split our data into two sessions (in order to be able to perform our encoding experiment)\n",
    "- We mask the data and save them into .npy file\n",
    "\n",
    "### Note:\n",
    "We use ``detrend=True`` and ``standardize=True`` in the ``NiftiMasker``. This is standard fMRI preprocessing and is needed for FastSRM to work."
   ]
  },
  {
   "cell_type": "code",
   "execution_count": 4,
   "metadata": {},
   "outputs": [
    {
     "name": "stderr",
     "output_type": "stream",
     "text": [
      "[Parallel(n_jobs=4)]: Using backend LokyBackend with 4 concurrent workers.\n",
      "[Parallel(n_jobs=4)]: Done   5 tasks      | elapsed:   17.2s\n",
      "[Parallel(n_jobs=4)]: Done  10 tasks      | elapsed:   23.9s\n",
      "[Parallel(n_jobs=4)]: Done  16 out of  20 | elapsed:   32.0s remaining:    8.0s\n"
     ]
    },
    {
     "name": "stdout",
     "output_type": "stream",
     "text": [
      "Done in 38.98 seconds\n"
     ]
    },
    {
     "name": "stderr",
     "output_type": "stream",
     "text": [
      "[Parallel(n_jobs=4)]: Done  20 out of  20 | elapsed:   39.0s finished\n"
     ]
    }
   ],
   "source": [
    "t0 = time()\n",
    "# the directory where our data are located\n",
    "data_dir = 'pieman-isc-tutorial'\n",
    "# Filenames for MRI data; gzipped NIfTI images (.nii.gz)\n",
    "func_fns = glob(join(data_dir, ('sub-*_task-pieman_space-MNI152NLin2009cAsym'\n",
    "                                '_desc-tproject_bold.nii.gz')))\n",
    "# The mask for our data\n",
    "mask_fn = join(data_dir, 'MNI152NLin2009cAsym_desc-brain_mask.nii.gz')\n",
    "\n",
    "# Let us mask these data and separate them into two sessions\n",
    "def separate_and_mask(func):\n",
    "    # Load data\n",
    "    N = nibabel.load(func).get_data()\n",
    "    # Separate them into two sessions\n",
    "    N_1 = N[:, :, :, :250]\n",
    "    N_2 = N[:, :, :, 250:]\n",
    "    I_1 = new_img_like(func, N_1)\n",
    "    I_2 = new_img_like(func, N_2)\n",
    "    # Mask data\n",
    "    masker = NiftiMasker(\n",
    "        mask_img=mask_fn, \n",
    "        detrend=True,\n",
    "        standardize=True,\n",
    "        smoothing_fwhm=6\n",
    "    ).fit()\n",
    "    # Transpose the data to fit with SRM conventions\n",
    "    X_1 = masker.transform(I_1).T\n",
    "    X_2 = masker.transform(I_2).T\n",
    "    # Save data\n",
    "    np.save(func[:-7] + \"_session_1\", X_1)\n",
    "    np.save(func[:-7] + \"_session_2\", X_2)\n",
    "\n",
    "# I have 4 cores in my computer, it you have more increase n_jobs\n",
    "Parallel(n_jobs=4, verbose=10)(\n",
    "    delayed(separate_and_mask)(\n",
    "        func\n",
    "    ) for func in func_fns)\n",
    "print(\"Done in %.2f seconds\" % (time() - t0))"
   ]
  },
  {
   "cell_type": "markdown",
   "metadata": {},
   "source": [
    "# Step 2: mask and save an atlas\n",
    "- Atlases are used in FastSRM to make computation faster\n",
    "- Any off-the-shelf big atlas should work (number of regions of the atlas should be larger than number of components used in SRM) we use Basc 444 for our example"
   ]
  },
  {
   "cell_type": "code",
   "execution_count": 5,
   "metadata": {},
   "outputs": [
    {
     "name": "stdout",
     "output_type": "stream",
     "text": [
      "\n",
      "Dataset created in pieman-isc-tutorial/basc_multiscale_2015\n",
      "\n",
      "Downloading data from https://ndownloader.figshare.com/files/1861819 ...\n"
     ]
    },
    {
     "name": "stderr",
     "output_type": "stream",
     "text": [
      "\r",
      "Downloaded 193985 of 193985 bytes (100.0%,    0.0s remaining) ...done. (0 seconds, 0 min)\n",
      "Extracting data from pieman-isc-tutorial/basc_multiscale_2015/3cbcf0eeb3f666f55070aba1db9a758f/1861819..... done.\n"
     ]
    },
    {
     "name": "stdout",
     "output_type": "stream",
     "text": [
      "pieman-isc-tutorial/basc_multiscale_2015/template_cambridge_basc_multiscale_nii_sym/template_cambridge_basc_multiscale_sym_scale444.nii.gz\n",
      "Done in 24.25\n"
     ]
    }
   ],
   "source": [
    "def load_atlas(atlas, mask_img):\n",
    "    # Load masker\n",
    "    atlas_masker = MultiNiftiMasker(\n",
    "        mask_img=mask_img).fit()\n",
    "    X = nibabel.load(atlas).get_data()\n",
    "    # If the atlas is a deterministic atlas\n",
    "    # (each region is identified by a number starting from 1)\n",
    "    if len(X.shape) == 3:\n",
    "        n_components = len(np.unique(X)) - 1\n",
    "        xa, ya, za = X.shape\n",
    "        A = np.zeros((xa, ya, za, n_components + 1))\n",
    "        for c in np.unique(X)[1:].astype(int):\n",
    "            X_ = np.copy(X)\n",
    "            X_[X_ != c] = 0.\n",
    "            X_[X_ == c] = 1.\n",
    "            A[:, :, :, c] = X_\n",
    "        A = atlas_masker.transform(new_img_like(atlas, A))\n",
    "        A = np.argmax(A, axis=0)\n",
    "    # If the atlas is a probabilistic atlas\n",
    "    # (each region is assigned to a component)\n",
    "    else:\n",
    "        A = atlas_masker.transform(atlas)\n",
    "    return A\n",
    "\n",
    "t0 = time()\n",
    "from nilearn.datasets import fetch_atlas_basc_multiscale_2015\n",
    "atlas = fetch_atlas_basc_multiscale_2015(data_dir=data_dir)['scale444']\n",
    "print(atlas)\n",
    "A = load_atlas(atlas, mask_fn)\n",
    "np.save(atlas[:-7], A)\n",
    "atlas_path = atlas[:-7] + \".npy\"\n",
    "print(\"Done in %.2f\" % (time() - t0))"
   ]
  },
  {
   "cell_type": "markdown",
   "metadata": {},
   "source": [
    "# Step 3: Fit of the model and predict data of left-out subjects\n",
    "- Load data\n",
    "- Train model on first session using train subjects \n",
    "- Compute shared response on second session using train subjects\n",
    "- Compute alignment for test subjects using session 1\n",
    "- Predict data of test subjects during session 2 using the trained model\n",
    "\n",
    "### Note about input images\n",
    "##### ProbSRM/DetSRM possible input\n",
    "- imgs is a list of arrays where element i of the array is a numpy array of shape [n_voxels, n_timeframes] that contains the data of subject i\n",
    "\n",
    "##### FastSRM possible input\n",
    "- imgs is a list of arrays where element i of the array is a numpy array of shape [n_voxels, n_timeframes] that contains the data of subject i\n",
    "\n",
    "- imgs is a list of list of arrays where element i, j of the array is a numpy array of shape [n_voxels, n_timeframes] that contains the data of subject i collected during session j.\n",
    "\n",
    "- imgs is an np array imgs, imgs[i, j] is a path to the data of subject i collected during session j. Data are loaded with numpy.load and expected shape is [n_voxels, n_timeframes] n_timeframes and n_voxels are assumed to be the same across subjects n_timeframes can vary across sessions. Each voxel’s timecourse is assumed to have mean 0 and variance 1\n",
    "\n",
    "=> So FastSRM can be used with very large dataset (even those where data cannot be hold in memory)"
   ]
  },
  {
   "cell_type": "code",
   "execution_count": 6,
   "metadata": {},
   "outputs": [
    {
     "name": "stdout",
     "output_type": "stream",
     "text": [
      "Input shape\n",
      "(20, 2)\n"
     ]
    }
   ],
   "source": [
    "subjects = [18, 19, 20, 21, 24, 25, 26, 28, 29, 30, 31, 32, 33, 34, 35, 36, 37, 38, 40, 42]\n",
    "sessions = [1, 2]\n",
    "\n",
    "files = np.array([\n",
    "    [glob(join(data_dir, \"sub-%.3i*_session_%i*\" %(sub, sess)))[0] \n",
    "     for sess in sessions]\n",
    "    for sub in subjects])\n",
    "\n",
    "# 20 subjects x 2 sessions file matrix\n",
    "print(\"Input shape\")\n",
    "print(files.shape)"
   ]
  },
  {
   "cell_type": "code",
   "execution_count": 7,
   "metadata": {},
   "outputs": [],
   "source": [
    "def load_and_concat(paths):\n",
    "    \"\"\"\n",
    "    Take an array (n_subjects, n_sessions) of path and yields a list of arrays\n",
    "    Parameters\n",
    "    ----------\n",
    "    paths\n",
    "    Returns\n",
    "    -------\n",
    "    X\n",
    "    \"\"\"\n",
    "    X = []\n",
    "    for i in range(len(paths)):\n",
    "        X_i = np.concatenate([np.load(paths[i, j])\n",
    "                              for j in range(len(paths[i]))], axis=1)\n",
    "        X.append(X_i)\n",
    "    return X"
   ]
  },
  {
   "cell_type": "code",
   "execution_count": 10,
   "metadata": {},
   "outputs": [],
   "source": [
    "from fastsrm.fastsrm import FastSRM\n",
    "\n",
    "fastsrm = FastSRM(\n",
    "    atlas=atlas_path, # the path to basc atlas (we could have used np.load(atlas_path) instead)\n",
    "    n_components=20,\n",
    "    n_jobs=1, # Since we use a small dataset paralellization is counter-productive so we do not use it here\n",
    "    n_iter=10, \n",
    "    temp_dir=data_dir, # We will use the disk as if we had a small memory\n",
    "    low_ram=True, # Let's say I really have a small memory so I need low_ram mode\n",
    "    aggregate=\"mean\" # transform will return the mean of subject specific shared response\n",
    ")\n",
    "\n",
    "models = [(\"fastsrm\", fastsrm)]"
   ]
  },
  {
   "cell_type": "code",
   "execution_count": 11,
   "metadata": {},
   "outputs": [
    {
     "name": "stdout",
     "output_type": "stream",
     "text": [
      "Running reconstruction experiment for fastsrm\n",
      "Done in 52.89\n"
     ]
    }
   ],
   "source": [
    "from sklearn.model_selection import KFold\n",
    "\n",
    "# List in which we record for each algo the R2 scores per voxels averaged across subjects\n",
    "r2_mean = {}\n",
    "for name, model in models:\n",
    "    print(\"Running reconstruction experiment for %s\" % name)\n",
    "    t0 = time()\n",
    "    # List in which we record for each subject the test R2 scores per voxels\n",
    "    r2_subjects = []\n",
    "\n",
    "    # We divide all subjects into train  subjects and test subjects\n",
    "    for subjects_train, subjects_test in KFold(n_splits=5,\n",
    "                                        shuffle=True\n",
    "                                       ).split(np.arange(len(subjects))):\n",
    "\n",
    "        # First let us train the model on train subjects during session 1\n",
    "        # # For this we will use an input format that is supported by both FastSRM and SRM: a list of arrays\n",
    "        train_subjects_session_1 = load_and_concat(files[subjects_train, :][:, :1])\n",
    "        train_subjects_session_2 = load_and_concat(files[subjects_train, :][:, 1:])\n",
    "        test_subjects_session_1 = load_and_concat(files[subjects_test, :][:, :1])\n",
    "        test_subjects_session_2 = load_and_concat(files[subjects_test, :][:, 1:])\n",
    "        \n",
    "        n_subjects_train = len(subjects_train)\n",
    "        n_subjects_test = len(subjects_test)\n",
    "\n",
    "        # # Let us fit the model on the first session\n",
    "        model.fit(train_subjects_session_1)\n",
    "\n",
    "\n",
    "        # Then let us compute the shared response on the second session\n",
    "\n",
    "        # # With FastSRM we can specify the desired behavior. \n",
    "        # # Because we specified aggregate=\"mean\" transform directly returns\n",
    "        # # the mean of subject-specific responses (aggregate=None would result \n",
    "        # # in the same behavior as in ProbSRM)\n",
    "        if name == \"fastsrm\":\n",
    "            shared_session_2 = model.transform(train_subjects_session_2)\n",
    "\n",
    "        # Now we add test subjects to the model\n",
    "\n",
    "        # # With FastSRM we have a function add subject that takes a list of subjects\n",
    "        # # new subjects are added to internal basis_list (that can be accessed using .basis_list\n",
    "        # # but this is usually not necessary)\n",
    "        # # With FastSRM we need to specify what is the shared response that is used to learn the alignment\n",
    "        if name == \"fastsrm\":\n",
    "            shared_session_1 = model.transform(train_subjects_session_1)\n",
    "            model.add_subjects(test_subjects_session_1, shared_session_1)\n",
    "        \n",
    "        # Then we try to reconstruct the data of test subjects during session 2\n",
    "\n",
    "        # # FastSRM provides an inverse transform but we need to specify what to reconstruct\n",
    "        # # New subjects are added at the end of the list so we need to reconstruct the data of the last \n",
    "        # # n_subjects_test subjects\n",
    "        if name == \"fastsrm\":\n",
    "            reconstructed_data_test_subjects_session_2 = model.inverse_transform(\n",
    "                shared_session_2,\n",
    "                subjects_indexes=np.arange(n_subjects_train, n_subjects_train + n_subjects_test))\n",
    "        \n",
    "        # This is the true data we are trying to reconstruct ()\n",
    "        real_data_test_subjects_session_2 = np.array([np.load(file) for file in files[subjects_test, :][:, 1]])\n",
    "\n",
    "        for i in range(n_subjects_test):\n",
    "            diff = reconstructed_data_test_subjects_session_2[i] - real_data_test_subjects_session_2[i]\n",
    "            r2 = 1 - diff.var(axis=1)\n",
    "            r2_subjects.append(r2)\n",
    "        \n",
    "    r2_mean[name] = np.mean(r2_subjects, axis=0)\n",
    "    print(\"Done in %.2f\" % (time() - t0))"
   ]
  },
  {
   "cell_type": "markdown",
   "metadata": {},
   "source": [
    "# Step 5: Plot results"
   ]
  },
  {
   "cell_type": "code",
   "execution_count": 12,
   "metadata": {},
   "outputs": [
    {
     "data": {
      "image/png": "[encoded data removed]",
      "text/plain": [
       "<Figure size 842.4x165.6 with 7 Axes>"
      ]
     },
     "metadata": {},
     "output_type": "display_data"
    }
   ],
   "source": [
    "masker = NiftiMasker(\n",
    "        mask_img=mask_fn).fit()\n",
    "\n",
    "for name in [\"fastsrm\"]:\n",
    "    plot_stat_map(\n",
    "        masker.inverse_transform(r2_mean[name]),\n",
    "        display_mode=\"z\",\n",
    "        cut_coords=[0, 5, 10, 15, 20],\n",
    "        vmax=0.3,\n",
    "        title=\"R2 %s\" % name\n",
    "    )"
   ]
  },
  {
   "cell_type": "code",
   "execution_count": null,
   "metadata": {},
   "outputs": [],
   "source": []
  }
 ],
 "metadata": {
  "kernelspec": {
   "display_name": "Python 3",
   "language": "python",
   "name": "python3"
  },
  "language_info": {
   "codemirror_mode": {
    "name": "ipython",
    "version": 3
   },
   "file_extension": ".py",
   "mimetype": "text/x-python",
   "name": "python",
   "nbconvert_exporter": "python",
   "pygments_lexer": "ipython3",
   "version": "3.6.8"
  }
 },
 "nbformat": 4,
 "nbformat_minor": 2
}
