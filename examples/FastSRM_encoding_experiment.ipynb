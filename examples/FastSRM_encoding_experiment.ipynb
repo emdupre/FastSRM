{
 "cells": [
  {
   "cell_type": "markdown",
   "metadata": {},
   "source": [
    "# Encoding experiment using the fast shared response model (FastSRM)"
   ]
  },
  {
   "cell_type": "markdown",
   "metadata": {},
   "source": [
    "In this notebook we introduce some basic functionalities of FastSRM. We present an encoding experiment that shows how fmri data of train subjects can be used to predict fmri data of test subjects (after training).\n",
    "\n",
    "More precisely, let us assume we have 2 groups of subjects (train, test) exposed to 2 similar but different naturalistic stimuli (session 1 and session 2) while we record their brain activity using an fMRI scanner. \n",
    "\n",
    "Our experiment follows the following steps:\n",
    "\n",
    "- Align train subjects: We train an alignment model on session 1 using train subjects\n",
    "- Align test subjects: Using data of test subjects during session 1 and the previously fitted model we add test subjects to the model\n",
    "- Predict test subjects data from train subjects: We use the model to align train subjects during session 2. From the aligned data (shared response) we predict the data of test subjects during session 2.\n",
    "- Measure performance: We report the R2 score between predicted and actual data."
   ]
  },
  {
   "cell_type": "markdown",
   "metadata": {},
   "source": [
    "# Real fMRI data"
   ]
  },
  {
   "cell_type": "markdown",
   "metadata": {},
   "source": [
    "We'll download a publicly available fMRI dataset and run SRM on these data. This dataset comprises fMRI data for 20 subjects listening to the spoken story Pie Man by Jim O'Grady (archived on the Princeton DataSpace). Note that we use 20 subjects to minimize computational demands for this tutorial and recommend larger sample sizes for publication. The gzipped data archive file is ~1.5 GB in size, and may take a couple minutes to download and unzip. The functional data were acquired with 3 x 3 x 4 mm voxels and 1.5 s TRs. Data were preprocessed using fMRIPrep (Esteban et al., 2018), including spatial normalization to MNI space (the T1-weighted ICBM 2009c Nonlinear Asymmetric template). The data were then smoothed to 6 mm FWHM using AFNI's 3dBlurToFWHM (Cox, 1996). The following confound variables were regressed out using 3dTproject: six head motion parameters (and their first derivatives), framewise displacement, six prinicipal components from an anatomical mask of cerebrospinal fluid (CSF) and white matter, sine/cosine bases for high-pass filtering (cutoff: 0.00714 Hz; 140 s), as well as a linear and quadratic trends. The anatomical template and a brain mask (i.e., excluding skull) are supplied as well. These have been resampled to match resolution of the functional images."
   ]
  },
  {
   "cell_type": "code",
   "execution_count": 1,
   "metadata": {},
   "outputs": [
    {
     "name": "stderr",
     "output_type": "stream",
     "text": [
      "/home/hugo/Research/nilearn/nilearn/datasets/__init__.py:90: FutureWarning: Fetchers from the nilearn.datasets module will be updated in version 0.9 to return python strings instead of bytes and Pandas dataframes instead of Numpy arrays.\n",
      "  \"Numpy arrays.\", FutureWarning)\n"
     ]
    }
   ],
   "source": [
    "import wget\n",
    "from time import time\n",
    "from glob import glob\n",
    "from os.path import join\n",
    "import nibabel\n",
    "from nilearn.image import new_img_like\n",
    "from nilearn.input_data import NiftiMasker, MultiNiftiMasker\n",
    "import numpy as np\n",
    "from joblib import Parallel, delayed\n",
    "from nilearn.plotting import plot_stat_map\n",
    "import matplotlib.pyplot as plt\n",
    "from IPython.display import clear_output\n",
    "import tarfile\n",
    "import os\n",
    "from tqdm import tqdm"
   ]
  },
  {
   "cell_type": "code",
   "execution_count": 2,
   "metadata": {},
   "outputs": [
    {
     "data": {
      "text/plain": [
       "0"
      ]
     },
     "execution_count": 2,
     "metadata": {},
     "output_type": "execute_result"
    }
   ],
   "source": [
    "# Download data tarball from Princeton DataSpace (about 1 Gb to download) \n",
    "os.system(\"wget -q --show-progress --no-check-certificate -r 'https://drive.google.com/uc?export=download&confirm=5QPf&id=1IBA39ZZjeGS1u_DvZdiw1AZZQMS3K5q0' -O 'data.zip'\")"
   ]
  },
  {
   "cell_type": "code",
   "execution_count": 3,
   "metadata": {},
   "outputs": [
    {
     "data": {
      "text/plain": [
       "256"
      ]
     },
     "execution_count": 3,
     "metadata": {},
     "output_type": "execute_result"
    }
   ],
   "source": [
    "os.system(\"unzip data.zip\")"
   ]
  },
  {
   "cell_type": "markdown",
   "metadata": {},
   "source": [
    "# Step 1: Mask and save the data\n",
    "- We split our data into two sessions (in order to be able to perform our encoding experiment)\n",
    "- We mask the data and save them into .npy file\n",
    "\n",
    "### Note:\n",
    "We use ``detrend=True`` and ``standardize=True`` in the ``NiftiMasker``. This is standard fMRI preprocessing and is needed for FastSRM to work."
   ]
  },
  {
   "cell_type": "code",
   "execution_count": 21,
   "metadata": {},
   "outputs": [
    {
     "name": "stderr",
     "output_type": "stream",
     "text": [
      "[Parallel(n_jobs=4)]: Using backend LokyBackend with 4 concurrent workers.\n",
      "[Parallel(n_jobs=4)]: Done   5 tasks      | elapsed:   21.7s\n",
      "[Parallel(n_jobs=4)]: Done  10 tasks      | elapsed:   30.7s\n",
      "[Parallel(n_jobs=4)]: Done  13 out of  18 | elapsed:   38.7s remaining:   14.9s\n",
      "[Parallel(n_jobs=4)]: Done  15 out of  18 | elapsed:   39.5s remaining:    7.9s\n"
     ]
    },
    {
     "name": "stdout",
     "output_type": "stream",
     "text": [
      "Done in 46.89 seconds\n"
     ]
    },
    {
     "name": "stderr",
     "output_type": "stream",
     "text": [
      "[Parallel(n_jobs=4)]: Done  18 out of  18 | elapsed:   46.5s finished\n"
     ]
    }
   ],
   "source": [
    "t0 = time()\n",
    "# the directory where our data are located\n",
    "data_dir = 'Pieman2'\n",
    "# Filenames for MRI data; gzipped NIfTI images (.nii.gz)\n",
    "\n",
    "func_fns = sorted(glob(\n",
    "    join(data_dir, \"sub*\", \"func\", \"*task-intact1*.nii.gz\")))\n",
    "\n",
    "# The mask for our data\n",
    "mask_fn = join(data_dir, \"masks\", \"avg152T1_gray_3mm.nii.gz\")\n",
    "\n",
    "# What they call mask in their data is actually an atlas\n",
    "# So we make it a proper mask\n",
    "actual_mask = nibabel.load(mask_fn).get_data()\n",
    "actual_mask = actual_mask > 0\n",
    "actual_mask = new_img_like(mask_fn, actual_mask)\n",
    "\n",
    "# Let us mask these data and separate them into two sessions\n",
    "def separate_and_mask(func):\n",
    "    # Load data\n",
    "    N = nibabel.load(func).get_data()\n",
    "    # Separate them into two sessions\n",
    "    N_1 = N[:, :, :, :250]\n",
    "    N_2 = N[:, :, :, 250:]\n",
    "    I_1 = new_img_like(func, N_1)\n",
    "    I_2 = new_img_like(func, N_2)\n",
    "    # Mask data\n",
    "    masker = NiftiMasker(\n",
    "        mask_img=actual_mask, \n",
    "        detrend=True,\n",
    "        standardize=True,\n",
    "        smoothing_fwhm=6\n",
    "    ).fit()\n",
    "    # Transpose the data to fit with SRM conventions\n",
    "    X_1 = masker.transform(I_1).T\n",
    "    X_2 = masker.transform(I_2).T\n",
    "    # Save data\n",
    "    np.save(func[:-7] + \"_session_1\", X_1)\n",
    "    np.save(func[:-7] + \"_session_2\", X_2)\n",
    "    return [func[:-7] + \"_session_1.npy\", func[:-7] + \"_session_2.npy\"]\n",
    "\n",
    "# I have 4 cores in my computer, it you have more increase n_jobs\n",
    "files = Parallel(n_jobs=4, verbose=10)(\n",
    "    delayed(separate_and_mask)(\n",
    "        func\n",
    "    ) for func in func_fns)\n",
    "print(\"Done in %.2f seconds\" % (time() - t0))"
   ]
  },
  {
   "cell_type": "markdown",
   "metadata": {},
   "source": [
    "# Step 2: Fit of the model and predict data of left-out subjects\n",
    "- Load data\n",
    "- Train model on first session using train subjects \n",
    "- Compute shared response on second session using train subjects\n",
    "- Compute alignment for test subjects using session 1\n",
    "- Predict data of test subjects during session 2 using the trained model\n",
    "\n",
    "### Note about input images\n",
    "##### ProbSRM/DetSRM possible input\n",
    "- imgs is a list of arrays where element i of the array is a numpy array of shape [n_voxels, n_timeframes] that contains the data of subject i\n",
    "\n",
    "##### FastSRM possible input\n",
    "- imgs is a list of arrays where element i of the array is a numpy array of shape [n_voxels, n_timeframes] that contains the data of subject i\n",
    "\n",
    "- imgs is a list of list of arrays where element i, j of the array is a numpy array of shape [n_voxels, n_timeframes] that contains the data of subject i collected during session j.\n",
    "\n",
    "- imgs is an np array imgs, imgs[i, j] is a path to the data of subject i collected during session j. Data are loaded with numpy.load and expected shape is [n_voxels, n_timeframes] n_timeframes and n_voxels are assumed to be the same across subjects n_timeframes can vary across sessions. Each voxel’s timecourse is assumed to have mean 0 and variance 1\n",
    "\n",
    "=> So FastSRM can be used with very large dataset (even those where data cannot be hold in memory)"
   ]
  },
  {
   "cell_type": "code",
   "execution_count": 37,
   "metadata": {},
   "outputs": [
    {
     "data": {
      "text/plain": [
       "(98508, 250)"
      ]
     },
     "execution_count": 37,
     "metadata": {},
     "output_type": "execute_result"
    }
   ],
   "source": [
    "files = np.array(files)\n",
    "n_subjects, n_sessions = files.shape\n",
    "files.shape"
   ]
  },
  {
   "cell_type": "code",
   "execution_count": 58,
   "metadata": {},
   "outputs": [],
   "source": [
    "from fastsrm.identifiable_srm import IdentifiableFastSRM\n",
    "\n",
    "fastsrm = IdentifiableFastSRM(\n",
    "    n_jobs=4,\n",
    "    n_iter=1,\n",
    "    tol=1e-7,\n",
    "    n_iter_reduced=10000,\n",
    "    identifiability=\"decorr\",\n",
    "    verbose=False,\n",
    "    temp_dir=data_dir, # We will use the disk as if we had a small memory\n",
    "    aggregate=\"mean\" # transform will return the mean of subject specific shared response\n",
    ")"
   ]
  },
  {
   "cell_type": "code",
   "execution_count": 59,
   "metadata": {},
   "outputs": [
    {
     "name": "stderr",
     "output_type": "stream",
     "text": [
      "\n",
      "\n",
      "\n",
      "0it [00:00, ?it/s]\u001b[A\u001b[A\u001b[A"
     ]
    },
    {
     "name": "stdout",
     "output_type": "stream",
     "text": [
      "Running reconstruction experiment\n"
     ]
    },
    {
     "name": "stderr",
     "output_type": "stream",
     "text": [
      "\n",
      "\n",
      "\n",
      "1it [00:13, 13.78s/it]\u001b[A\u001b[A\u001b[A\n",
      "\n",
      "\n",
      "2it [00:27, 13.70s/it]\u001b[A\u001b[A\u001b[A\n",
      "\n",
      "\n",
      "3it [00:39, 13.34s/it]\u001b[A\u001b[A\u001b[A\n",
      "\n",
      "\n",
      "4it [00:53, 13.38s/it]\u001b[A\u001b[A\u001b[A\n",
      "\n",
      "\n",
      "5it [01:20, 16.18s/it]\u001b[A\u001b[A\u001b[A"
     ]
    },
    {
     "name": "stdout",
     "output_type": "stream",
     "text": [
      "Done in 80.90\n"
     ]
    },
    {
     "name": "stderr",
     "output_type": "stream",
     "text": [
      "\n"
     ]
    }
   ],
   "source": [
    "from sklearn.model_selection import KFold\n",
    "\n",
    "print(\"Running reconstruction experiment\")\n",
    "t0 = time()\n",
    "# List in which we record for each subject the test R2 scores per voxels\n",
    "r2_subjects = []\n",
    "# We divide all subjects into train  subjects and test subjects\n",
    "for subjects_train, subjects_test in tqdm(KFold(n_splits=5,\n",
    "                                    shuffle=True\n",
    "                                   ).split(np.arange(n_subjects))):\n",
    "\n",
    "    # First let us train the model on train subjects during session 1\n",
    "    # # For this we will use an input format that is supported by both FastSRM and SRM: a list of arrays\n",
    "    train_subjects_session_1 = [np.load(files[s, 0]) for s in subjects_train]\n",
    "    train_subjects_session_2 = [np.load(files[s, 1]) for s in subjects_train]\n",
    "    test_subjects_session_1 = [np.load(files[s, 0]) for s in subjects_test]\n",
    "    test_subjects_session_2 = [np.load(files[s, 1]) for s in subjects_test]\n",
    "    \n",
    "    n_subjects_train = len(subjects_train)\n",
    "    n_subjects_test = len(subjects_test)\n",
    "\n",
    "    # # Let us fit the model on the first session\n",
    "    fastsrm.fit(train_subjects_session_1)\n",
    "    # Compute a shared response from train subjects on session 1\n",
    "    shared_session_1 = fastsrm.transform(train_subjects_session_1)\n",
    "    # Compute a shared response from train subjects on session 2\n",
    "    shared_session_2 = fastsrm.transform(train_subjects_session_2)\n",
    "    # Add new test subjects to the model\n",
    "    fastsrm.add_subjects(test_subjects_session_1, shared_session_1)\n",
    "\n",
    "    # Then we try to reconstruct the data of test subjects during\n",
    "    # session 2\n",
    "    reconstructed_data_test_subjects_session_2 = fastsrm.inverse_transform(\n",
    "            shared_session_2,\n",
    "            subjects_indexes=np.arange(\n",
    "                n_subjects_train, n_subjects_train + n_subjects_test))\n",
    "\n",
    "    # This is the true data we are trying to reconstruct ()\n",
    "    real_data_test_subjects_session_2 = np.array([np.load(file) for file in files[subjects_test,1]])\n",
    "\n",
    "    for i in range(n_subjects_test):\n",
    "        diff = reconstructed_data_test_subjects_session_2[i] - real_data_test_subjects_session_2[i]\n",
    "        r2 = 1 - diff.var(axis=1)\n",
    "        r2_subjects.append(r2)\n",
    "\n",
    "r2_score = np.mean(r2_subjects, axis=0)\n",
    "print(\"Done in %.2f\" % (time() - t0))"
   ]
  },
  {
   "cell_type": "markdown",
   "metadata": {},
   "source": [
    "# Step 5: Plot results"
   ]
  },
  {
   "cell_type": "code",
   "execution_count": 61,
   "metadata": {},
   "outputs": [
    {
     "data": {
      "image/png": "[encoded data removed]",
      "text/plain": [
       "<Figure size 842.4x165.6 with 7 Axes>"
      ]
     },
     "metadata": {},
     "output_type": "display_data"
    }
   ],
   "source": [
    "masker = NiftiMasker(\n",
    "        mask_img=actual_mask).fit()\n",
    "\n",
    "for name in [\"fastsrm\"]:\n",
    "    plot_stat_map(\n",
    "        masker.inverse_transform(r2_score),\n",
    "        display_mode=\"z\",\n",
    "        cut_coords=[0, 5, 10, 15, 20],\n",
    "        vmax=0.3,\n",
    "        title=\"R2 %s\" % name\n",
    "    )"
   ]
  }
 ],
 "metadata": {
  "kernelspec": {
   "display_name": "Python 3",
   "language": "python",
   "name": "python3"
  },
  "language_info": {
   "codemirror_mode": {
    "name": "ipython",
    "version": 3
   },
   "file_extension": ".py",
   "mimetype": "text/x-python",
   "name": "python",
   "nbconvert_exporter": "python",
   "pygments_lexer": "ipython3",
   "version": "3.7.4"
  }
 },
 "nbformat": 4,
 "nbformat_minor": 2
}
